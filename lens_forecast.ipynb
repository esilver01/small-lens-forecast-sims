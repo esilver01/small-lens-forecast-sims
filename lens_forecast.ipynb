{
 "cells": [
  {
   "cell_type": "code",
   "execution_count": 1,
   "metadata": {
    "tags": []
   },
   "outputs": [
    {
     "name": "stderr",
     "output_type": "stream",
     "text": [
      "/global/homes/e/esilver/.local/perlmutter/python-3.11/lib/python3.11/site-packages/numba/core/decorators.py:262: NumbaDeprecationWarning: \u001b[1mnumba.generated_jit is deprecated. Please see the documentation at: https://numba.readthedocs.io/en/stable/reference/deprecation.html#deprecation-of-generated-jit for more information and advice on a suitable replacement.\u001b[0m\n",
      "  warnings.warn(msg, NumbaDeprecationWarning)\n"
     ]
    }
   ],
   "source": [
    "import numpy as np\n",
    "import matplotlib.pyplot as plt\n",
    "from lenstronomy.Cosmo.lens_cosmo import LensCosmo\n",
    "from lenstronomy.LensModel.lens_model import LensModel\n",
    "from astropy.io import fits\n",
    "from scipy.stats import norm, truncnorm\n",
    "import sep, glob, GCRCatalogs, matplotlib\n",
    "from scipy.optimize import root\n",
    "from tqdm import tqdm\n",
    "import pandas as pd"
   ]
  },
  {
   "cell_type": "code",
   "execution_count": 2,
   "metadata": {
    "tags": []
   },
   "outputs": [],
   "source": [
    "#options are Zahid and Collet\n",
    "method='Zahid' \n",
    "#options are 'source_in_lens' (Method A), 'lens_in_source' (Method B), and 'both' (Method C)\n",
    "counting='both'\n",
    "#Default number of samples is 100,000: use this to increase samples\n",
    "sample_size_factor = 10\n",
    "#home directory with data\n",
    "home = \"/global/cfs/projectdirs/deepsrch/jwst_sims/data/\"\n",
    "#Loads CosmoDC2 catalog\n",
    "cat = GCRCatalogs.load_catalog(\"desc_cosmodc2\")"
   ]
  },
  {
   "cell_type": "code",
   "execution_count": 3,
   "metadata": {
    "tags": []
   },
   "outputs": [],
   "source": [
    "#Collett (2015) statistics, generated using LensPop\n",
    "\n",
    "c_sig = np.load(home+\"lenspop/lens_sig_3.npy\", encoding=\"latin1\",allow_pickle=True)\n",
    "c_z = np.load(home+\"lenspop/lens_z_3.npy\", encoding=\"latin1\",allow_pickle=True)\n",
    "c_thetaE = np.array([])\n",
    "for i in range(len(c_sig)):\n",
    "    lens_cosmo = LensCosmo(c_z[i],6)\n",
    "    te = lens_cosmo.sis_sigma_v2theta_E(c_sig[i])\n",
    "    c_thetaE = np.append(c_thetaE, te)\n",
    "bins = np.arange(0,2.0,0.1)\n",
    "n, bins = np.histogram(c_thetaE, bins=bins)"
   ]
  },
  {
   "cell_type": "code",
   "execution_count": 4,
   "metadata": {
    "tags": []
   },
   "outputs": [],
   "source": [
    "#Sets up CosmoDC2 data to be drawn from\n",
    "keys = ['redshift', 'halo_mass', 'stellar_mass', 'size_true', 'ellipticity_1_true', 'ellipticity_2_true', 'is_central']\n",
    "dc2 = cat.get_quantities(keys)\n",
    "\n",
    "ra, dec = cat.get_quantities(['ra_true'])['ra_true'], cat.get_quantities(['dec_true'])['dec_true']\n",
    "ra_dc2, dec_dc2 = ra-ra.mean(), dec-dec.mean()\n",
    "#Parallelogram of area covered by Cosmo DC2\n",
    "area_dc2 = (ra.max()-ra.min())*(dec.max()-dec.min())/2"
   ]
  },
  {
   "cell_type": "code",
   "execution_count": 5,
   "metadata": {
    "tags": []
   },
   "outputs": [],
   "source": [
    "#JWST star-forming and quiescent mock catalogs (Williams et al. (2018))\n",
    "with fits.open(home+'JWST/JADES_SF_mock_r1_v1.1.fits') as hdul:\n",
    "#     print(hdul.info())\n",
    "    dataq = hdul[1].data\n",
    "#'sad' is the Source Area in Degrees squared\n",
    "ra_source, dec_source = dataq['RA']-dataq['RA'].mean(), dataq['DEC']-dataq['DEC'].mean()\n",
    "sad = (ra_source.max()-ra_source.min())*(dec_source.max()-dec_source.min()) #source area degrees\n",
    "\n",
    "with fits.open(home+'JWST/JADES_Q_mock_r1_v1.1.fits') as hdul:\n",
    "#     print(hdul.info())\n",
    "    dataq2 = hdul[1].data\n",
    "    headerq = hdul[1].header\n",
    "#Selects rectangle on the sky to use\n",
    "dataq = dataq[dataq['RA']>53.137];dataq = dataq[dataq['RA']<53.222]\n",
    "dataq = dataq[dataq['DEC']>-27.83];dataq = dataq[dataq['DEC']<-27.785]\n",
    "dataq2 = dataq2[dataq2['RA']>53.137];dataq2 = dataq2[dataq2['RA']<53.222]\n",
    "dataq2 = dataq2[dataq2['DEC']>-27.83];dataq2 = dataq2[dataq2['DEC']<-27.785]\n",
    "\n",
    "from astropy.table import Table, vstack\n",
    "from astropy.io.fits import FITS_rec\n",
    "data = vstack([Table(dataq),Table(dataq2)])\n",
    "data['ra'] = data['RA']; data['dec']=data['DEC']"
   ]
  },
  {
   "cell_type": "code",
   "execution_count": 6,
   "metadata": {
    "tags": []
   },
   "outputs": [],
   "source": [
    "#Range of source redshifts\n",
    "z_sources = np.logspace(np.log10(max(data['redshift'])), np.log10(min(data['redshift'])), 20)\n",
    "z_source_means = (z_sources[1:]+z_sources[:-1])/2"
   ]
  },
  {
   "cell_type": "code",
   "execution_count": 7,
   "metadata": {
    "tags": []
   },
   "outputs": [
    {
     "data": {
      "text/plain": [
       "0.001607376616448164"
      ]
     },
     "execution_count": 7,
     "metadata": {},
     "output_type": "execute_result"
    }
   ],
   "source": [
    "#JWST image (Williams et al. (2018))\n",
    "with fits.open(home+'JWST/goods_s_F115W_2018_08_29.fits') as hdul:\n",
    "    data3 = hdul[0].data\n",
    "    header3 = hdul[0].header\n",
    "from astropy.wcs import WCS\n",
    "w = WCS(header3)\n",
    "from astropy.coordinates import SkyCoord\n",
    "region = data3[5000:6000,7000:9000]*1\n",
    "#Average background level\n",
    "bkg = sep.Background(np.array(region)).globalrms\n",
    "bkg"
   ]
  },
  {
   "cell_type": "code",
   "execution_count": 8,
   "metadata": {
    "tags": []
   },
   "outputs": [],
   "source": [
    "with fits.open(home+'JWST/JADES_SF_mock_r1_v1.1.fits') as hdul:\n",
    "#     print(hdul.info())\n",
    "    data0 = hdul[1].data\n",
    "    header = hdul[1].header\n",
    "ra_source, dec_source = data['RA']-data['RA'].mean(), data['DEC']-data['DEC'].mean()\n",
    "sad = (ra_source.max()-ra_source.min())*(dec_source.max()-dec_source.min()) #source area degrees\n"
   ]
  },
  {
   "cell_type": "code",
   "execution_count": 9,
   "metadata": {
    "tags": []
   },
   "outputs": [
    {
     "name": "stderr",
     "output_type": "stream",
     "text": [
      "                                                                                  \r"
     ]
    },
    {
     "name": "stdout",
     "output_type": "stream",
     "text": [
      "1642.608657836914\n"
     ]
    }
   ],
   "source": [
    "#Statistical count, counting sources over lens area\n",
    "import time\n",
    "start = time.time()\n",
    "\n",
    "#converts between normalization of Collett and CosmoDC2 distributions\n",
    "number_ratio = 0.017399272857057335\n",
    "\n",
    "#Total array of Einstein radii\n",
    "TES=[]\n",
    "#Masses of the lenses\n",
    "masses_used=[]\n",
    "#Sources per lens above 0.05\", 0.1\", 0.5\", 1.0\"\n",
    "sources_per_lens_005,sources_per_lens_010,sources_per_lens_050,sources_per_lens_100 = [],[],[],[]\n",
    "\n",
    "lens_masses = dc2['halo_mass'].copy()\n",
    "#Lower mass limit is for speed, upper is to exclude huge cluster lenses\n",
    "sel = (lens_masses>1e9)*(lens_masses<1e14)\n",
    "\n",
    "ms = lens_masses[sel]\n",
    "zs = dc2['redshift'][sel]\n",
    "rng = np.random.default_rng(seed=5)\n",
    "inds = rng.choice(len(ms), size=100000*sample_size_factor,replace=False)\n",
    "inds = inds[dc2['is_central'][sel][inds]==True]\n",
    "\n",
    "ms = ms[inds]\n",
    "zs = zs[inds]\n",
    "source_nums = np.zeros(len(z_source_means))\n",
    "#Total lensed areas above 0.05\", 0.1\", 0.5\", 1.0\"\n",
    "lens_areas_005 = np.zeros(len(z_source_means))\n",
    "lens_areas_010 = np.zeros(len(z_source_means))\n",
    "lens_areas_050 = np.zeros(len(z_source_means))\n",
    "lens_areas_100 = np.zeros(len(z_source_means))\n",
    "\n",
    "#Iterates over the redshift slices\n",
    "for zi in (range(len(z_source_means))):\n",
    "    sources = data[data['redshift']<z_sources[zi]]\n",
    "    sources = sources[sources['redshift']>z_sources[zi+1]]\n",
    "    \n",
    "    source_areas = []\n",
    "\n",
    "    #Counts all of the sources within the redshift bin that are bright enough\n",
    "    for source in range(len(sources)):\n",
    "        R = int(sources[source]['Re_maj']/.03*5)\n",
    "        #counting if any pixel has brightness >5*BKG, using sep\n",
    "        if R>0:\n",
    "            ra, dec = sources[source]['RA'], sources[source]['DEC']\n",
    "            sky = SkyCoord(str(ra)+\"d \"+str(dec)+\"d\")\n",
    "            x, y = w.world_to_pixel(sky)\n",
    "            x, y = int(x), int(y)\n",
    "            gal = data3[y-R:y+R,x-R:x+R]\n",
    "            objects, segmap = sep.extract(np.array(gal).byteswap().newbyteorder(), 1.5, err=bkg, segmentation_map=True)\n",
    "            segmap[segmap!=segmap[R,R]]=0\n",
    "            \n",
    "            if np.count_nonzero(gal[segmap!=0]>5*bkg)>=1:\n",
    "                source_nums[zi] += 1\n",
    "                source_areas.append(np.sum(gal[segmap!=0]>5*bkg)*(.03/60/60)**2)\n",
    "       \n",
    "        # #counting if brightness above a magnitude cut\n",
    "        # F_nu = sources[source]['HST_F775W_fnu']*1e-9\n",
    "        # ABmag = -2.5*np.log10(F_nu) + 8.90\n",
    "        # if ABmag < 27:\n",
    "        #     source_nums[zi] += 1\n",
    "\n",
    "    TESz = []\n",
    "    masses_used_z = []\n",
    "    sources_per_lens_z_005,sources_per_lens_z_010,sources_per_lens_z_050,sources_per_lens_z_100  = [],[],[],[]\n",
    "    #Counts the total lens area at the center of the current redshift slice\n",
    "    for lens in tqdm(range(len(ms)), desc=\"Redshift Slice \"+str(1+zi)+\"/\"+str(len(z_source_means)), leave=False):\n",
    "        if zs[lens] < z_source_means[zi]:\n",
    "            lens_cosmo = LensCosmo(z_lens=zs[lens], z_source=z_source_means[zi])\n",
    "\n",
    "            if method=='Zahid':\n",
    "                alpha, beta, scatter = 0.16, 3.31, 0.17\n",
    "                sig = 100*10**((np.log10(ms[lens]/1e12)-alpha)/beta)\n",
    "                sig += norm.rvs(loc=0,scale=np.log(10)/beta*sig*0.17)\n",
    "                \n",
    "            elif method=='Collett':\n",
    "                sig = np.random.choice(c_sig)\n",
    "            else:\n",
    "                raise Exception(\"Not a valid method.\")\n",
    "            \n",
    "            theta_E = lens_cosmo.sis_sigma_v2theta_E(sig)\n",
    "            TESz.append(theta_E)\n",
    "            masses_used_z.append(ms[lens])\n",
    "            \n",
    "            TEarea = np.pi*(theta_E/60/60)**2\n",
    "            if len(source_areas)>0:\n",
    "                #Source area\n",
    "                sArea = np.random.choice(source_areas)\n",
    "                source_radius = np.sqrt(sArea/np.pi)\n",
    "                #Total radius is how far away the lens and source can be\n",
    "                if counting=='source_in_lens':\n",
    "                    total_radius = theta_E/60/60\n",
    "                elif counting=='lens_in_source':\n",
    "                    total_radius = source_radius\n",
    "                elif counting=='both':\n",
    "                    total_radius = max(source_radius, theta_E/60/60)\n",
    "                else:\n",
    "                    raise Exception(\"Not a valid counting choice.\")\n",
    "                TEarea = np.pi*(total_radius)**2\n",
    "            else:\n",
    "                Tearea=0\n",
    "            \n",
    "            #Counts the individual Einstein radius bins conveniently\n",
    "            if theta_E>.05:\n",
    "                sources_per_lens_z_005.append(source_nums[zi]*TEarea/sad)\n",
    "            else:\n",
    "                sources_per_lens_z_005.append(0)\n",
    "            if theta_E>.10:\n",
    "                sources_per_lens_z_010.append(source_nums[zi]*TEarea/sad)\n",
    "            else:\n",
    "                sources_per_lens_z_010.append(0)\n",
    "            if theta_E>.50:\n",
    "                sources_per_lens_z_050.append(source_nums[zi]*TEarea/sad)\n",
    "            else:\n",
    "                sources_per_lens_z_050.append(0)\n",
    "            if theta_E>1.00:\n",
    "                sources_per_lens_z_100.append(source_nums[zi]*TEarea/sad)\n",
    "            else:\n",
    "                sources_per_lens_z_100.append(0)\n",
    "\n",
    "            \n",
    "            if theta_E>.05:\n",
    "                lens_areas_005[zi] += TEarea\n",
    "            if theta_E>0.10:\n",
    "                lens_areas_010[zi] += TEarea\n",
    "            if theta_E>0.50:\n",
    "                lens_areas_050[zi] += TEarea\n",
    "            if theta_E>1.00:\n",
    "                # print(theta_E)\n",
    "                lens_areas_100[zi] += TEarea\n",
    "        else:\n",
    "            TESz.append(0)\n",
    "            masses_used_z.append(0)\n",
    "            sources_per_lens_z_005.append(0),sources_per_lens_z_010.append(0),sources_per_lens_z_050.append(0),sources_per_lens_z_100.append(0)\n",
    "    TESz = np.array(TESz)\n",
    "    TES.append(TESz)\n",
    "\n",
    "    masses_used_z = np.array(masses_used_z)\n",
    "    masses_used.append(masses_used_z)\n",
    "    \n",
    "    sources_per_lens_005.append(np.array(sources_per_lens_z_005)),sources_per_lens_010.append(np.array(sources_per_lens_z_010)),sources_per_lens_050.append(np.array(sources_per_lens_z_050)),sources_per_lens_100.append(np.array(sources_per_lens_z_100))\n",
    "TES = np.array(TES)\n",
    "masses_used = np.array(masses_used)\n",
    "\n",
    "sources_per_lens_005 = np.array(sources_per_lens_005)\n",
    "sources_per_lens_010 = np.array(sources_per_lens_010)\n",
    "sources_per_lens_050 = np.array(sources_per_lens_050)\n",
    "sources_per_lens_100 = np.array(sources_per_lens_100)\n",
    "if method=='Collett':\n",
    "    sources_per_lens_005 = sources_per_lens_005*number_ratio\n",
    "    sources_per_lens_010 = sources_per_lens_010*number_ratio\n",
    "    sources_per_lens_050 = sources_per_lens_050*number_ratio\n",
    "    sources_per_lens_100 = sources_per_lens_100*number_ratio\n",
    "\n",
    "print(time.time()-start)"
   ]
  },
  {
   "cell_type": "code",
   "execution_count": 10,
   "metadata": {
    "tags": []
   },
   "outputs": [
    {
     "name": "stdout",
     "output_type": "stream",
     "text": [
      "\n",
      "0.05 903.17174306125 2799459.231289724 0.0003226236456550055\n",
      "0.1 486.3669282094242 2799459.231289724 0.0001737360282919186\n",
      "0.5 180.4651706985311 2799459.231289724 6.44642967761277e-05\n",
      "1 81.0052637787962 2799459.231289724 2.893603981561707e-05\n",
      "[37502400.28713229 20195413.96003992  7493455.28291511  3363581.56788695]\n"
     ]
    }
   ],
   "source": [
    "def counts_per_deg(te):\n",
    "    if te==0.05:\n",
    "        lens_areas = lens_areas_005.copy()\n",
    "    elif te==0.10:\n",
    "        lens_areas = lens_areas_010.copy()\n",
    "    elif te==0.50:\n",
    "        lens_areas = lens_areas_050.copy()\n",
    "    elif te==1.00:\n",
    "        lens_areas = lens_areas_100.copy()\n",
    "    counts_per_deg = np.zeros(len(TES))\n",
    "    for i in range(len(TES)):\n",
    "        sources_per_deg = source_nums[i] / sad\n",
    "        # lenses_per_deg = len(lenses)*len(masses2)/len(ms)/(11*11/60/60)\n",
    "\n",
    "        counts_per_deg[i] = sources_per_deg * lens_areas[i] * np.sum(sel)/len(ms)/area_dc2\n",
    "    print(te, np.sum(counts_per_deg), np.sum(source_nums/sad),np.sum(counts_per_deg)/np.sum(source_nums/sad))\n",
    "    return np.sum(counts_per_deg)\n",
    "print()  \n",
    "a = np.array([counts_per_deg(.05), counts_per_deg(.1), counts_per_deg(.5),  counts_per_deg(1)])\n",
    "if method=='Collett':\n",
    "    a = a*number_ratio\n",
    "# print(a)\n",
    "print(a*41523)"
   ]
  },
  {
   "cell_type": "code",
   "execution_count": 21,
   "metadata": {
    "tags": []
   },
   "outputs": [
    {
     "name": "stdout",
     "output_type": "stream",
     "text": [
      "0.599423396494146\n"
     ]
    },
    {
     "data": {
      "image/png": "[encoded data removed]",
      "text/plain": [
       "<Figure size 600x500 with 1 Axes>"
      ]
     },
     "metadata": {},
     "output_type": "display_data"
    }
   ],
   "source": [
    "#Plot of forecast Halo Mass by Einstein radius range\n",
    "log=False\n",
    "plt.figure(dpi=100,figsize=(6,5))\n",
    "mass = (masses_used.flat)[(TES.flat<0.05)*(TES.flat>.02)]\n",
    "plt.hist(mass, linewidth=2, bins=np.logspace(9,14,21), label=r\"$.02<\\theta_E<.05''$\",histtype='step', log=log)\n",
    "mass = (masses_used.flat)[(TES.flat<0.10)*(TES.flat>.05)]\n",
    "plt.hist(mass, linewidth=2, bins=np.logspace(9,14,21), label=r\"$.05<\\theta_E<.10''$\",histtype='step', log=log)\n",
    "mass = (masses_used.flat)[(TES.flat<0.15)*(TES.flat>.10)]\n",
    "plt.hist(mass, linewidth=2, bins=np.logspace(9,14,21), label=r\"$.10<\\theta_E<.15''$\",histtype='step', log=log)\n",
    "\n",
    "mass = (masses_used.flat)[(TES.flat<0.05)*(TES.flat>.02)]\n",
    "frac = np.sum(mass<=1e11)/len(mass)\n",
    "print(frac)\n",
    "plt.xlabel(r'Halo Mass ($M_\\odot$)', fontsize='x-large')\n",
    "plt.ylabel('Count', fontsize='x-large')\n",
    "plt.title(r\"Halo Mass by $\\theta_E$ Range\", fontsize='x-large')\n",
    "plt.legend(fontsize='large', loc='upper right')\n",
    "plt.xlim(1e9,1e14)\n",
    "plt.xscale('log')"
   ]
  },
  {
   "cell_type": "code",
   "execution_count": 11,
   "metadata": {
    "tags": []
   },
   "outputs": [],
   "source": [
    "#n_max_counted = max number of sources to consider \n",
    "#(eg. 2 = up to double sources)\n",
    "n_max_counted = 2\n",
    "#tots needed for the normalization\n",
    "tots = np.zeros(4)\n",
    "j=-1\n",
    "sizes = [.05,0.1,0.5,1.0]\n",
    "for sources_per_lens_i in [sources_per_lens_005,sources_per_lens_010,sources_per_lens_050,sources_per_lens_100]:\n",
    "    j += 1\n",
    "    # print(\"_____\"+str(sizes[j])+\"_____\")\n",
    "    for i in range(1,n_max_counted+1):\n",
    "        sources_per_lens = sources_per_lens_i.copy()\n",
    "        mu = np.array(sources_per_lens.sum(axis=0))\n",
    "        ni = mu**i*np.e**(-mu)/np.math.factorial(i)\n",
    "        if method=='Collett':\n",
    "            ni /= (number_ratio)**(i-1)\n",
    "        n_per_deg_i = np.sum(ni)*np.sum(sel)/len(ms)/area_dc2\n",
    "        tots[j] += n_per_deg_i"
   ]
  },
  {
   "cell_type": "code",
   "execution_count": 12,
   "metadata": {
    "tags": []
   },
   "outputs": [
    {
     "name": "stdout",
     "output_type": "stream",
     "text": [
      "N | fraction | per deg | on sky\n",
      "_____>0.05\"_____\n",
      "1 96.14 817.41 33941315.4409\n",
      "2 3.86 32.8186 1362725.7463\n",
      "_____>0.1\"_____\n",
      "1 93.7451 411.696 17094852.1773\n",
      "2 6.2549 27.4693 1140608.8579\n",
      "_____>0.5\"_____\n",
      "1 85.7326 121.6178 5049935.3158\n",
      "2 14.2674 20.2393 840397.2795\n",
      "_____>1.0\"_____\n",
      "1 80.646 46.0123 1910570.5486\n",
      "2 19.354 11.0424 458512.4337\n"
     ]
    }
   ],
   "source": [
    "#Follows formatting of Tables 1 and 2 in the paper\n",
    "#(Just sum the rows of N=1,2,etc for the totals in Table 2)\n",
    "\n",
    "print(\"N | fraction | per deg | on sky\")\n",
    "sizes = [0.05,0.10,0.50,1.00]\n",
    "j=-1\n",
    "for sources_per_lens_i in [sources_per_lens_005,sources_per_lens_010,sources_per_lens_050,sources_per_lens_100]:\n",
    "    j += 1\n",
    "    print(\"_____>\"+str(sizes[j])+'\"_____')\n",
    "    for i in range(1,n_max_counted+1):\n",
    "        sources_per_lens = sources_per_lens_i.copy()\n",
    "        mu = np.array(sources_per_lens.sum(axis=0))\n",
    "        ni = mu**i*np.e**(-mu)/np.math.factorial(i)\n",
    "        if method=='Collett':\n",
    "            ni /= (number_ratio)**(i-1)\n",
    "        n_per_deg_i = np.sum(ni)*np.sum(sel)/len(ms)/area_dc2\n",
    "        n_per_sky_i = n_per_deg_i * 41523\n",
    "        print(i, round(n_per_deg_i/tots[j]*100,4), round(n_per_deg_i,4), round(n_per_sky_i,4))"
   ]
  },
  {
   "cell_type": "code",
   "execution_count": null,
   "metadata": {},
   "outputs": [],
   "source": []
  }
 ],
 "metadata": {
  "kernelspec": {
   "display_name": "NERSC Python",
   "language": "python",
   "name": "python3"
  },
  "language_info": {
   "codemirror_mode": {
    "name": "ipython",
    "version": 3
   },
   "file_extension": ".py",
   "mimetype": "text/x-python",
   "name": "python",
   "nbconvert_exporter": "python",
   "pygments_lexer": "ipython3",
   "version": "3.11.7"
  }
 },
 "nbformat": 4,
 "nbformat_minor": 4
}
